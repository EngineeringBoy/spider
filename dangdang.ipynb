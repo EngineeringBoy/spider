{
 "cells": [
  {
   "cell_type": "code",
   "execution_count": 6,
   "metadata": {},
   "outputs": [],
   "source": [
    "import requests\n",
    "import re\n",
    "\n",
    "def parse(html):\n",
    "    pattern = re.compile('<li>.*?list_num.*?(\\d+).</div>.*?<img src=\"(.*?)\".*?class=\"name\".*?title=\"(.*?)\">.*?class=\"star\">.*?class=\"tuijian\">(.*?)</span>.*?class=\"publisher_info\">.*?target=\"_blank\">(.*?)</a>.*?class=\"biaosheng\">.*?<span>(.*?)</span></div>.*?<p><span\\sclass=\"price_n\">&yen;(.*?)</span>.*?</li>',re.S)\n",
    "    items = re.findall(pattern, html)\n",
    "    for item in items:\n",
    "        yield{\n",
    "            'range': item[0],\n",
    "            'iamge': item[1],\n",
    "            'title': item[2],\n",
    "            'recommend': item[3],\n",
    "            'author': item[4],\n",
    "            'times': item[5],\n",
    "            'price': item[6]            \n",
    "        }"
   ]
  },
  {
   "cell_type": "code",
   "execution_count": 7,
   "metadata": {},
   "outputs": [
    {
     "name": "stdout",
     "output_type": "stream",
     "text": [
      "{'range': '1', 'iamge': 'http://img3m7.ddimg.cn/83/17/28522577-1_l_7.jpg', 'title': '人间至美：朱光潜经典散文集', 'recommend': '100%推荐', 'author': '朱光潜', 'times': '59785次', 'price': '29.90'}\n",
      "{'range': '2', 'iamge': 'http://img3m6.ddimg.cn/38/25/28541936-1_l_3.jpg', 'title': '男孩的学习力', 'recommend': '100%推荐', 'author': '富永雄辅', 'times': '40287次', 'price': '33.90'}\n",
      "{'range': '3', 'iamge': 'http://img3m2.ddimg.cn/31/3/28999012-1_l_6.jpg', 'title': '10分钟趣味科学(每天10分钟，帮助孩子解决“十万个为什么”的难题。15大主题，300个科学知识，最有趣的科学启蒙书，满足孩子的求知欲、好奇心。 中国台湾清华大学资讯工程系教授李家同倾情推荐！）', 'recommend': '100%推荐', 'author': '张永佶', 'times': '9982次', 'price': '178.20'}\n",
      "{'range': '4', 'iamge': 'http://img3m4.ddimg.cn/21/20/28534494-1_l_4.jpg', 'title': '陪伴是最好的爱：儿童情绪与行为管理指南', 'recommend': '100%推荐', 'author': '王意中', 'times': '10099次', 'price': '39.80'}\n",
      "{'range': '5', 'iamge': 'http://img3m1.ddimg.cn/66/36/28470981-1_l_3.jpg', 'title': '谜案鉴赏', 'recommend': '100%推荐', 'author': '莉比・菲舍尔・赫尔曼', 'times': '84912次', 'price': '36.80'}\n",
      "{'range': '6', 'iamge': 'http://img3m7.ddimg.cn/77/7/28990247-1_l_6.jpg', 'title': '基本演绎法', 'recommend': '100%推荐', 'author': '刘洪波', 'times': '24829次', 'price': '34.70'}\n",
      "{'range': '7', 'iamge': 'http://img3m4.ddimg.cn/77/13/27911444-1_l_5.jpg', 'title': '高尔基成长三部曲（童年、在人间、我的大学）', 'recommend': '100%推荐', 'author': '高尔基', 'times': '64403次', 'price': '79.60'}\n",
      "{'range': '8', 'iamge': 'http://img3m0.ddimg.cn/33/33/25197810-1_l_6.jpg', 'title': '尤尔小屋的猫', 'recommend': '100%推荐', 'author': '莉莉・海沃德', 'times': '124013次', 'price': '33.60'}\n",
      "{'range': '9', 'iamge': 'http://img3m5.ddimg.cn/96/20/25277865-1_l_9.jpg', 'title': '上帝怀中的羔羊：美国普利策文学奖、法国费米娜文学奖获奖作品', 'recommend': '100%推荐', 'author': '凯洛琳・米勒', 'times': '74843次', 'price': '33.60'}\n",
      "{'range': '10', 'iamge': 'http://img3m6.ddimg.cn/82/36/29114596-1_l_6.jpg', 'title': '汪曾祺的写作课', 'recommend': '100%推荐', 'author': '汪曾祺', 'times': '18623次', 'price': '33.60'}\n",
      "{'range': '11', 'iamge': 'http://img3m5.ddimg.cn/64/16/25110325-1_l_3.jpg', 'title': '守护故事的人(一部与《杀死一只知更鸟》相同深度和力量的作品)', 'recommend': '100%推荐', 'author': '丽萨・温格特', 'times': '78717次', 'price': '40.50'}\n",
      "{'range': '12', 'iamge': 'http://img3m3.ddimg.cn/94/21/25069963-1_l_16.jpg', 'title': '呐喊――大屠杀回忆录（二战犹太大屠杀幸存者自述――一部震撼人心的自传）', 'recommend': '100%推荐', 'author': '曼尼・斯坦伯格', 'times': '72355次', 'price': '29.00'}\n",
      "{'range': '13', 'iamge': 'http://img3m0.ddimg.cn/65/35/28470980-1_l_5.jpg', 'title': '阴谋与爱情', 'recommend': '100%推荐', 'author': 'J・B・卞若琳', 'times': '82508次', 'price': '29.40'}\n",
      "{'range': '14', 'iamge': 'http://img3m1.ddimg.cn/46/27/25254451-1_l_5.jpg', 'title': '《另类间谍》（推理小说名家赫尔曼之战争三部曲 展现人性深处的生死博弈）', 'recommend': '100%推荐', 'author': '莉比・菲舍尔・赫尔曼', 'times': '66004次', 'price': '21.40'}\n",
      "{'range': '15', 'iamge': 'http://img3m2.ddimg.cn/97/23/24157582-1_l_13.jpg', 'title': '脱口而出，妙语连珠：令人终生难忘的即兴演说书（成功与否并不取决于经验多寡，而是在于使用什么样的方法）', 'recommend': '100%推荐', 'author': '安德里・赛德涅夫', 'times': '73465次', 'price': '33.20'}\n",
      "{'range': '16', 'iamge': 'http://img3m0.ddimg.cn/21/26/25342140-1_l_5.jpg', 'title': '天真易得', 'recommend': '100%推荐', 'author': '莉比・菲舍尔・赫尔曼', 'times': '12516次', 'price': '40.60'}\n",
      "{'range': '17', 'iamge': 'http://img3m6.ddimg.cn/2/27/24157586-1_l_7.jpg', 'title': '谋杀鉴赏（《读者的选择》最佳小说奖、国际推理小说“安东尼”奖提名。）', 'recommend': '100%推荐', 'author': '莉比・菲舍尔・赫尔曼', 'times': '74158次', 'price': '28.10'}\n",
      "{'range': '18', 'iamge': 'http://img3m4.ddimg.cn/0/25/24157584-1_l_12.jpg', 'title': '克隆版大脑（如果你脑子里的一切都被计算机复制，会发生什么事？国际斯坦福研究协会人工智能中心首席科学家理查德・瓦尔丁格倾力推荐）', 'recommend': '100%推荐', 'author': '大卫・沃尔夫', 'times': '41460次', 'price': '28.80'}\n",
      "{'range': '19', 'iamge': 'http://img3m0.ddimg.cn/10/28/25345990-1_l_3.jpg', 'title': '间谍之死(拒绝好莱坞翻拍的年度作品，刺激程度超越《碟中谍》，更好看的悬疑推理小说，，更精彩的高科技犯罪！屏住呼吸，追击即将开始) 纤阅出品', 'recommend': '100%推荐', 'author': '丹・马里兰', 'times': '92848次', 'price': '42.10'}\n",
      "{'range': '20', 'iamge': 'http://img3m4.ddimg.cn/95/22/25069964-1_l_19.jpg', 'title': '旋木情缘（《今日美国》畅销书获奖作品中国首发：一座重获新生的旋转木马，一段爱情的回归之旅）', 'recommend': '100%推荐', 'author': '堂娜・法萨诺', 'times': '61813次', 'price': '28.10'}\n"
     ]
    }
   ],
   "source": [
    "url = 'http://bang.dangdang.com/books/fivestars/01.00.00.00.00.00-recent30-0-0-1-1'\n",
    "try:\n",
    "    response = requests.get(url)\n",
    "    if response.status_code == 200:\n",
    "        items = parse(response.text)\n",
    "        for item in items:\n",
    "            print(item)\n",
    "except requests.RequestException:\n",
    "    print('except')"
   ]
  },
  {
   "cell_type": "code",
   "execution_count": null,
   "metadata": {},
   "outputs": [],
   "source": []
  }
 ],
 "metadata": {
  "kernelspec": {
   "display_name": "Python 3",
   "language": "python",
   "name": "python3"
  },
  "language_info": {
   "codemirror_mode": {
    "name": "ipython",
    "version": 3
   },
   "file_extension": ".py",
   "mimetype": "text/x-python",
   "name": "python",
   "nbconvert_exporter": "python",
   "pygments_lexer": "ipython3",
   "version": "3.7.9"
  }
 },
 "nbformat": 4,
 "nbformat_minor": 4
}
